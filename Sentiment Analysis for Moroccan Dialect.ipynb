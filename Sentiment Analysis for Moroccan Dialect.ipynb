{
 "cells": [
  {
   "cell_type": "markdown",
   "metadata": {
    "id": "46AllxC7E2hK"
   },
   "source": [
    "# <font><center> **Sentiment Analysis for Moroccan Dialect** \n"
   ]
  },
  {
   "cell_type": "markdown",
   "metadata": {
    "id": "MA5607R9jU3a"
   },
   "source": [
    "### Reading and Loading the Dataset"
   ]
  },
  {
   "cell_type": "code",
   "execution_count": 46,
   "metadata": {
    "id": "04_YN444Jzcn"
   },
   "outputs": [],
   "source": [
    "import warnings\n",
    "warnings.simplefilter('ignore')"
   ]
  },
  {
   "cell_type": "code",
   "execution_count": 47,
   "metadata": {
    "colab": {
     "base_uri": "https://localhost:8080/",
     "height": 206
    },
    "id": "kg1IUmVByw_u",
    "outputId": "437e9cce-1fc0-4747-d331-dbb4be8ab012"
   },
   "outputs": [
    {
     "data": {
      "text/html": [
       "<div>\n",
       "<style scoped>\n",
       "    .dataframe tbody tr th:only-of-type {\n",
       "        vertical-align: middle;\n",
       "    }\n",
       "\n",
       "    .dataframe tbody tr th {\n",
       "        vertical-align: top;\n",
       "    }\n",
       "\n",
       "    .dataframe thead th {\n",
       "        text-align: right;\n",
       "    }\n",
       "</style>\n",
       "<table border=\"1\" class=\"dataframe\">\n",
       "  <thead>\n",
       "    <tr style=\"text-align: right;\">\n",
       "      <th></th>\n",
       "      <th>comment</th>\n",
       "      <th>label</th>\n",
       "    </tr>\n",
       "  </thead>\n",
       "  <tbody>\n",
       "    <tr>\n",
       "      <th>0</th>\n",
       "      <td>العتماني عندو اللباقة و الجدال بالغة سد فمك</td>\n",
       "      <td>0</td>\n",
       "    </tr>\n",
       "    <tr>\n",
       "      <th>1</th>\n",
       "      <td>إن كتب لنا الموت بهذا الفيروس فذاك يبقى قضاء و...</td>\n",
       "      <td>0</td>\n",
       "    </tr>\n",
       "    <tr>\n",
       "      <th>2</th>\n",
       "      <td>خوتي الله ينجيكم من هاد الفيروس الخبيث يا رب ا...</td>\n",
       "      <td>0</td>\n",
       "    </tr>\n",
       "    <tr>\n",
       "      <th>3</th>\n",
       "      <td>الحمد لله على أن ڤيروس كورونا لا يعيش في ما فو...</td>\n",
       "      <td>0</td>\n",
       "    </tr>\n",
       "    <tr>\n",
       "      <th>4</th>\n",
       "      <td>و بخصوص الكمامات فهو على صواب الكمامة تحمي فقط...</td>\n",
       "      <td>0</td>\n",
       "    </tr>\n",
       "  </tbody>\n",
       "</table>\n",
       "</div>"
      ],
      "text/plain": [
       "                                             comment  label\n",
       "0        العتماني عندو اللباقة و الجدال بالغة سد فمك      0\n",
       "1  إن كتب لنا الموت بهذا الفيروس فذاك يبقى قضاء و...      0\n",
       "2  خوتي الله ينجيكم من هاد الفيروس الخبيث يا رب ا...      0\n",
       "3  الحمد لله على أن ڤيروس كورونا لا يعيش في ما فو...      0\n",
       "4  و بخصوص الكمامات فهو على صواب الكمامة تحمي فقط...      0"
      ]
     },
     "execution_count": 47,
     "metadata": {},
     "output_type": "execute_result"
    }
   ],
   "source": [
    "import  numpy as np\n",
    "import pandas as pd\n",
    "\n",
    "train = pd.read_excel(\"Final_Data.xlsx\" )\n",
    "train.head()"
   ]
  },
  {
   "cell_type": "code",
   "execution_count": 48,
   "metadata": {
    "id": "-WYy5ikAs7l3"
   },
   "outputs": [],
   "source": [
    "DATA_COLUMN = \"comment\"\n",
    "LABEL_COLUMN = \"label\""
   ]
  },
  {
   "cell_type": "code",
   "execution_count": 49,
   "metadata": {
    "colab": {
     "base_uri": "https://localhost:8080/",
     "height": 424
    },
    "id": "beSl29tdrDYW",
    "outputId": "d9b8ff2e-f526-497d-bc06-8e46a63ad58b"
   },
   "outputs": [
    {
     "data": {
      "text/html": [
       "<div>\n",
       "<style scoped>\n",
       "    .dataframe tbody tr th:only-of-type {\n",
       "        vertical-align: middle;\n",
       "    }\n",
       "\n",
       "    .dataframe tbody tr th {\n",
       "        vertical-align: top;\n",
       "    }\n",
       "\n",
       "    .dataframe thead th {\n",
       "        text-align: right;\n",
       "    }\n",
       "</style>\n",
       "<table border=\"1\" class=\"dataframe\">\n",
       "  <thead>\n",
       "    <tr style=\"text-align: right;\">\n",
       "      <th></th>\n",
       "      <th>comment</th>\n",
       "      <th>label</th>\n",
       "    </tr>\n",
       "  </thead>\n",
       "  <tbody>\n",
       "    <tr>\n",
       "      <th>0</th>\n",
       "      <td>العتماني عندو اللباقة و الجدال بالغة سد فمك</td>\n",
       "      <td>0</td>\n",
       "    </tr>\n",
       "    <tr>\n",
       "      <th>1</th>\n",
       "      <td>إن كتب لنا الموت بهذا الفيروس فذاك يبقى قضاء و...</td>\n",
       "      <td>0</td>\n",
       "    </tr>\n",
       "    <tr>\n",
       "      <th>2</th>\n",
       "      <td>خوتي الله ينجيكم من هاد الفيروس الخبيث يا رب ا...</td>\n",
       "      <td>0</td>\n",
       "    </tr>\n",
       "    <tr>\n",
       "      <th>3</th>\n",
       "      <td>الحمد لله على أن ڤيروس كورونا لا يعيش في ما فو...</td>\n",
       "      <td>0</td>\n",
       "    </tr>\n",
       "    <tr>\n",
       "      <th>4</th>\n",
       "      <td>و بخصوص الكمامات فهو على صواب الكمامة تحمي فقط...</td>\n",
       "      <td>0</td>\n",
       "    </tr>\n",
       "    <tr>\n",
       "      <th>...</th>\n",
       "      <td>...</td>\n",
       "      <td>...</td>\n",
       "    </tr>\n",
       "    <tr>\n",
       "      <th>4332</th>\n",
       "      <td>هاد الصداع كامل السبب ديالوا كروش الحرام اللي ...</td>\n",
       "      <td>1</td>\n",
       "    </tr>\n",
       "    <tr>\n",
       "      <th>4333</th>\n",
       "      <td>هادشي بزاف ياك حبستونا شهرين بلا خدمة مرض كيتص...</td>\n",
       "      <td>1</td>\n",
       "    </tr>\n",
       "    <tr>\n",
       "      <th>4334</th>\n",
       "      <td>واحد التمساح عدنا ماعندوا نفس</td>\n",
       "      <td>1</td>\n",
       "    </tr>\n",
       "    <tr>\n",
       "      <th>4335</th>\n",
       "      <td>وكلنا عليهم الله هاد المصانع غادي يخليونا فديو...</td>\n",
       "      <td>1</td>\n",
       "    </tr>\n",
       "    <tr>\n",
       "      <th>4336</th>\n",
       "      <td>واش هذا ديال دابا ؟؟؟؟؟؟</td>\n",
       "      <td>0</td>\n",
       "    </tr>\n",
       "  </tbody>\n",
       "</table>\n",
       "<p>4337 rows × 2 columns</p>\n",
       "</div>"
      ],
      "text/plain": [
       "                                                comment  label\n",
       "0           العتماني عندو اللباقة و الجدال بالغة سد فمك      0\n",
       "1     إن كتب لنا الموت بهذا الفيروس فذاك يبقى قضاء و...      0\n",
       "2     خوتي الله ينجيكم من هاد الفيروس الخبيث يا رب ا...      0\n",
       "3     الحمد لله على أن ڤيروس كورونا لا يعيش في ما فو...      0\n",
       "4     و بخصوص الكمامات فهو على صواب الكمامة تحمي فقط...      0\n",
       "...                                                 ...    ...\n",
       "4332  هاد الصداع كامل السبب ديالوا كروش الحرام اللي ...      1\n",
       "4333  هادشي بزاف ياك حبستونا شهرين بلا خدمة مرض كيتص...      1\n",
       "4334                      واحد التمساح عدنا ماعندوا نفس      1\n",
       "4335  وكلنا عليهم الله هاد المصانع غادي يخليونا فديو...      1\n",
       "4336                           واش هذا ديال دابا ؟؟؟؟؟؟      0\n",
       "\n",
       "[4337 rows x 2 columns]"
      ]
     },
     "execution_count": 49,
     "metadata": {},
     "output_type": "execute_result"
    }
   ],
   "source": [
    "df_MSAC = pd.DataFrame(train, columns=[\"comment\", LABEL_COLUMN])\n",
    "df_MSAC"
   ]
  },
  {
   "cell_type": "code",
   "execution_count": 50,
   "metadata": {},
   "outputs": [
    {
     "data": {
      "text/plain": [
       "'Asi hotman positive dima 😂'"
      ]
     },
     "execution_count": 50,
     "metadata": {},
     "output_type": "execute_result"
    }
   ],
   "source": [
    "df_MSAC[\"comment\"][225]"
   ]
  },
  {
   "cell_type": "markdown",
   "metadata": {},
   "source": [
    "### Preprocessing"
   ]
  },
  {
   "cell_type": "markdown",
   "metadata": {},
   "source": [
    "### Aransia"
   ]
  },
  {
   "cell_type": "code",
   "execution_count": 14,
   "metadata": {},
   "outputs": [],
   "source": [
    "from aaransia import transliterate, SourceLanguageError\n",
    "for i in range(len(df_MSAC)):\n",
    "    row=df_MSAC.iloc[i][\"comment\"]\n",
    "    row=transliterate(row, source='ma', target='ar', universal=True)\n",
    "    df_MSAC.loc[:,\"comment\"][i]=row"
   ]
  },
  {
   "cell_type": "code",
   "execution_count": 15,
   "metadata": {},
   "outputs": [
    {
     "data": {
      "text/plain": [
       "'اسي هوتمان پوسيتيڤ ديما 😂'"
      ]
     },
     "execution_count": 15,
     "metadata": {},
     "output_type": "execute_result"
    }
   ],
   "source": [
    "df_MSAC[\"comment\"][225]"
   ]
  },
  {
   "cell_type": "markdown",
   "metadata": {},
   "source": [
    "### Normalization"
   ]
  },
  {
   "cell_type": "code",
   "execution_count": 18,
   "metadata": {},
   "outputs": [],
   "source": [
    "import re\n",
    "#Normalize_the_text:\n",
    "def normalize_arabic(text):\n",
    "    text = re.sub(\"[إأآا]\", \"ا\", text)\n",
    "    text = re.sub(\"ى\", \"ي\", text)\n",
    "    text = re.sub(\"ؤ\", \"ء\", text)\n",
    "    text = re.sub(\"ئ\", \"ء\", text)\n",
    "    text = re.sub(\"ة\", \"ه\", text)\n",
    "    text = re.sub(\"گ\", \"ك\", text)\n",
    "    return text"
   ]
  },
  {
   "cell_type": "code",
   "execution_count": 19,
   "metadata": {},
   "outputs": [],
   "source": [
    "sentences = [normalize_arabic(text) for text in df_MSAC['comment'] ]\n",
    "df_MSAC['comment']=sentences"
   ]
  },
  {
   "cell_type": "markdown",
   "metadata": {},
   "source": [
    "### Data cleaning"
   ]
  },
  {
   "cell_type": "markdown",
   "metadata": {},
   "source": [
    "Text cleaning will include several things:\n",
    "\n",
    "- removing missing values\n",
    "- removing punctuation \n",
    "- removing numbers \n",
    "- removing stopwords"
   ]
  },
  {
   "cell_type": "code",
   "execution_count": 21,
   "metadata": {
    "colab": {
     "base_uri": "https://localhost:8080/"
    },
    "id": "PpHbF5nIVz8L",
    "outputId": "b3252934-a68a-460d-ff00-438780392d4d"
   },
   "outputs": [
    {
     "data": {
      "text/plain": [
       "' الشفافيه و الثقه  لا بد ان تكون الثقه'"
      ]
     },
     "execution_count": 21,
     "metadata": {},
     "output_type": "execute_result"
    }
   ],
   "source": [
    "import re\n",
    "df_MSAC['comment'] = df_MSAC['comment'].str.replace('\\d+', ' ')\n",
    "\n",
    "df_MSAC['comment'] = df_MSAC['comment'].str.replace('\\n', ' ')\n",
    "df_MSAC['comment'] = df_MSAC['comment'].str.replace('/', ' ')\n",
    "#removes punctuation\n",
    "df_MSAC['comment']= [re.sub(r'[^\\w\\s]','',s) for s in df_MSAC['comment']] \n",
    "#remove latin characters\n",
    "df_MSAC['comment']= [re.sub(r'[a-zA-Z ]',' ',s) for s in df_MSAC['comment']] \n",
    "df_MSAC['comment'][12]"
   ]
  },
  {
   "cell_type": "markdown",
   "metadata": {},
   "source": [
    "### Stopwords"
   ]
  },
  {
   "cell_type": "code",
   "execution_count": 22,
   "metadata": {
    "id": "TLQq8BdQWiPQ"
   },
   "outputs": [],
   "source": [
    "##Common Words"
   ]
  },
  {
   "cell_type": "code",
   "execution_count": 23,
   "metadata": {},
   "outputs": [],
   "source": [
    "# import necessary libraries\n",
    "from nltk.corpus import stopwords"
   ]
  },
  {
   "cell_type": "code",
   "execution_count": 24,
   "metadata": {},
   "outputs": [
    {
     "name": "stdout",
     "output_type": "stream",
     "text": [
      "['إذ', 'إذا', 'إذما', 'إذن', 'أف', 'أقل', 'أكثر', 'ألا', 'إلا', 'التي', 'الذي', 'الذين', 'اللاتي', 'اللائي', 'اللتان', 'اللتيا', 'اللتين', 'اللذان', 'اللذين', 'اللواتي', 'إلى', 'إليك', 'إليكم', 'إليكما', 'إليكن', 'أم', 'أما', 'أما', 'إما', 'أن', 'إن', 'إنا', 'أنا', 'أنت', 'أنتم', 'أنتما', 'أنتن', 'إنما', 'إنه', 'أنى', 'أنى', 'آه', 'آها', 'أو', 'أولاء', 'أولئك', 'أوه', 'آي', 'أي', 'أيها', 'إي', 'أين', 'أين', 'أينما', 'إيه', 'بخ', 'بس', 'بعد', 'بعض', 'بك', 'بكم', 'بكم', 'بكما', 'بكن', 'بل', 'بلى', 'بما', 'بماذا', 'بمن', 'بنا', 'به', 'بها', 'بهم', 'بهما', 'بهن', 'بي', 'بين', 'بيد', 'تلك', 'تلكم', 'تلكما', 'ته', 'تي', 'تين', 'تينك', 'ثم', 'ثمة', 'حاشا', 'حبذا', 'حتى', 'حيث', 'حيثما', 'حين', 'خلا', 'دون', 'ذا', 'ذات', 'ذاك', 'ذان', 'ذانك', 'ذلك', 'ذلكم', 'ذلكما', 'ذلكن', 'ذه', 'ذو', 'ذوا', 'ذواتا', 'ذواتي', 'ذي', 'ذين', 'ذينك', 'ريث', 'سوف', 'سوى', 'شتان', 'عدا', 'عسى', 'عل', 'على', 'عليك', 'عليه', 'عما', 'عن', 'عند', 'غير', 'فإذا', 'فإن', 'فلا', 'فمن', 'في', 'فيم', 'فيما', 'فيه', 'فيها', 'قد', 'كأن', 'كأنما', 'كأي', 'كأين', 'كذا', 'كذلك', 'كل', 'كلا', 'كلاهما', 'كلتا', 'كلما', 'كليكما', 'كليهما', 'كم', 'كم', 'كما', 'كي', 'كيت', 'كيف', 'كيفما', 'لا', 'لاسيما', 'لدى', 'لست', 'لستم', 'لستما', 'لستن', 'لسن', 'لسنا', 'لعل', 'لك', 'لكم', 'لكما', 'لكن', 'لكنما', 'لكي', 'لكيلا', 'لم', 'لما', 'لن', 'لنا', 'له', 'لها', 'لهم', 'لهما', 'لهن', 'لو', 'لولا', 'لوما', 'لي', 'لئن', 'ليت', 'ليس', 'ليسا', 'ليست', 'ليستا', 'ليسوا', 'ما', 'ماذا', 'متى', 'مذ', 'مع', 'مما', 'ممن', 'من', 'منه', 'منها', 'منذ', 'مه', 'مهما', 'نحن', 'نحو', 'نعم', 'ها', 'هاتان', 'هاته', 'هاتي', 'هاتين', 'هاك', 'هاهنا', 'هذا', 'هذان', 'هذه', 'هذي', 'هذين', 'هكذا', 'هل', 'هلا', 'هم', 'هما', 'هن', 'هنا', 'هناك', 'هنالك', 'هو', 'هؤلاء', 'هي', 'هيا', 'هيت', 'هيهات', 'والذي', 'والذين', 'وإذ', 'وإذا', 'وإن', 'ولا', 'ولكن', 'ولو', 'وما', 'ومن', 'وهو', 'يا', 'أبٌ', 'أخٌ', 'حمٌ', 'فو', 'أنتِ', 'يناير', 'فبراير', 'مارس', 'أبريل', 'مايو', 'يونيو', 'يوليو', 'أغسطس', 'سبتمبر', 'أكتوبر', 'نوفمبر', 'ديسمبر', 'جانفي', 'فيفري', 'مارس', 'أفريل', 'ماي', 'جوان', 'جويلية', 'أوت', 'كانون', 'شباط', 'آذار', 'نيسان', 'أيار', 'حزيران', 'تموز', 'آب', 'أيلول', 'تشرين', 'دولار', 'دينار', 'ريال', 'درهم', 'ليرة', 'جنيه', 'قرش', 'مليم', 'فلس', 'هللة', 'سنتيم', 'يورو', 'ين', 'يوان', 'شيكل', 'واحد', 'اثنان', 'ثلاثة', 'أربعة', 'خمسة', 'ستة', 'سبعة', 'ثمانية', 'تسعة', 'عشرة', 'أحد', 'اثنا', 'اثني', 'إحدى', 'ثلاث', 'أربع', 'خمس', 'ست', 'سبع', 'ثماني', 'تسع', 'عشر', 'ثمان', 'سبت', 'أحد', 'اثنين', 'ثلاثاء', 'أربعاء', 'خميس', 'جمعة', 'أول', 'ثان', 'ثاني', 'ثالث', 'رابع', 'خامس', 'سادس', 'سابع', 'ثامن', 'تاسع', 'عاشر', 'حادي', 'أ', 'ب', 'ت', 'ث', 'ج', 'ح', 'خ', 'د', 'ذ', 'ر', 'ز', 'س', 'ش', 'ص', 'ض', 'ط', 'ظ', 'ع', 'غ', 'ف', 'ق', 'ك', 'ل', 'م', 'ن', 'ه', 'و', 'ي', 'ء', 'ى', 'آ', 'ؤ', 'ئ', 'أ', 'ة', 'ألف', 'باء', 'تاء', 'ثاء', 'جيم', 'حاء', 'خاء', 'دال', 'ذال', 'راء', 'زاي', 'سين', 'شين', 'صاد', 'ضاد', 'طاء', 'ظاء', 'عين', 'غين', 'فاء', 'قاف', 'كاف', 'لام', 'ميم', 'نون', 'هاء', 'واو', 'ياء', 'همزة', 'ي', 'نا', 'ك', 'كن', 'ه', 'إياه', 'إياها', 'إياهما', 'إياهم', 'إياهن', 'إياك', 'إياكما', 'إياكم', 'إياك', 'إياكن', 'إياي', 'إيانا', 'أولالك', 'تانِ', 'تانِك', 'تِه', 'تِي', 'تَيْنِ', 'ثمّ', 'ثمّة', 'ذانِ', 'ذِه', 'ذِي', 'ذَيْنِ', 'هَؤلاء', 'هَاتانِ', 'هَاتِه', 'هَاتِي', 'هَاتَيْنِ', 'هَذا', 'هَذانِ', 'هَذِه', 'هَذِي', 'هَذَيْنِ', 'الألى', 'الألاء', 'أل', 'أنّى', 'أيّ', 'ّأيّان', 'أنّى', 'أيّ', 'ّأيّان', 'ذيت', 'كأيّ', 'كأيّن', 'بضع', 'فلان', 'وا', 'آمينَ', 'آهِ', 'آهٍ', 'آهاً', 'أُفٍّ', 'أُفٍّ', 'أفٍّ', 'أمامك', 'أمامكَ', 'أوّهْ', 'إلَيْكَ', 'إلَيْكَ', 'إليكَ', 'إليكنّ', 'إيهٍ', 'بخٍ', 'بسّ', 'بَسْ', 'بطآن', 'بَلْهَ', 'حاي', 'حَذارِ', 'حيَّ', 'حيَّ', 'دونك', 'رويدك', 'سرعان', 'شتانَ', 'شَتَّانَ', 'صهْ', 'صهٍ', 'طاق', 'طَق', 'عَدَسْ', 'كِخ', 'مكانَك', 'مكانَك', 'مكانَك', 'مكانكم', 'مكانكما', 'مكانكنّ', 'نَخْ', 'هاكَ', 'هَجْ', 'هلم', 'هيّا', 'هَيْهات', 'وا', 'واهاً', 'وراءَك', 'وُشْكَانَ', 'وَيْ', 'يفعلان', 'تفعلان', 'يفعلون', 'تفعلون', 'تفعلين', 'اتخذ', 'ألفى', 'تخذ', 'ترك', 'تعلَّم', 'جعل', 'حجا', 'حبيب', 'خال', 'حسب', 'خال', 'درى', 'رأى', 'زعم', 'صبر', 'ظنَّ', 'عدَّ', 'علم', 'غادر', 'ذهب', 'وجد', 'ورد', 'وهب', 'أسكن', 'أطعم', 'أعطى', 'رزق', 'زود', 'سقى', 'كسا', 'أخبر', 'أرى', 'أعلم', 'أنبأ', 'حدَث', 'خبَّر', 'نبَّا', 'أفعل به', 'ما أفعله', 'بئس', 'ساء', 'طالما', 'قلما', 'لات', 'لكنَّ', 'ءَ', 'أجل', 'إذاً', 'أمّا', 'إمّا', 'إنَّ', 'أنًّ', 'أى', 'إى', 'أيا', 'ب', 'ثمَّ', 'جلل', 'جير', 'رُبَّ', 'س', 'علًّ', 'ف', 'كأنّ', 'كلَّا', 'كى', 'ل', 'لات', 'لعلَّ', 'لكنَّ', 'لكنَّ', 'م', 'نَّ', 'هلّا', 'وا', 'أل', 'إلّا', 'ت', 'ك', 'لمّا', 'ن', 'ه', 'و', 'ا', 'ي', 'تجاه', 'تلقاء', 'جميع', 'حسب', 'سبحان', 'شبه', 'لعمر', 'مثل', 'معاذ', 'أبو', 'أخو', 'حمو', 'فو', 'مئة', 'مئتان', 'ثلاثمئة', 'أربعمئة', 'خمسمئة', 'ستمئة', 'سبعمئة', 'ثمنمئة', 'تسعمئة', 'مائة', 'ثلاثمائة', 'أربعمائة', 'خمسمائة', 'ستمائة', 'سبعمائة', 'ثمانمئة', 'تسعمائة', 'عشرون', 'ثلاثون', 'اربعون', 'خمسون', 'ستون', 'سبعون', 'ثمانون', 'تسعون', 'عشرين', 'ثلاثين', 'اربعين', 'خمسين', 'ستين', 'سبعين', 'ثمانين', 'تسعين', 'بضع', 'نيف', 'أجمع', 'جميع', 'عامة', 'عين', 'نفس', 'لا سيما', 'أصلا', 'أهلا', 'أيضا', 'بؤسا', 'بعدا', 'بغتة', 'تعسا', 'حقا', 'حمدا', 'خلافا', 'خاصة', 'دواليك', 'سحقا', 'سرا', 'سمعا', 'صبرا', 'صدقا', 'صراحة', 'طرا', 'عجبا', 'عيانا', 'غالبا', 'فرادى', 'فضلا', 'قاطبة', 'كثيرا', 'لبيك', 'معاذ', 'أبدا', 'إزاء', 'أصلا', 'الآن', 'أمد', 'أمس', 'آنفا', 'آناء', 'أنّى', 'أول', 'أيّان', 'تارة', 'ثمّ', 'ثمّة', 'حقا', 'صباح', 'مساء', 'ضحوة', 'عوض', 'غدا', 'غداة', 'قطّ', 'كلّما', 'لدن', 'لمّا', 'مرّة', 'قبل', 'خلف', 'أمام', 'فوق', 'تحت', 'يمين', 'شمال', 'ارتدّ', 'استحال', 'أصبح', 'أضحى', 'آض', 'أمسى', 'انقلب', 'بات', 'تبدّل', 'تحوّل', 'حار', 'رجع', 'راح', 'صار', 'ظلّ', 'عاد', 'غدا', 'كان', 'ما انفك', 'ما برح', 'مادام', 'مازال', 'مافتئ', 'ابتدأ', 'أخذ', 'اخلولق', 'أقبل', 'انبرى', 'أنشأ', 'أوشك', 'جعل', 'حرى', 'شرع', 'طفق', 'علق', 'قام', 'كرب', 'كاد', 'هبّ']\n"
     ]
    }
   ],
   "source": [
    "print(stopwords.words('arabic'))"
   ]
  },
  {
   "cell_type": "code",
   "execution_count": 25,
   "metadata": {},
   "outputs": [
    {
     "data": {
      "text/plain": [
       "' الشفافيه و الثقه  لا بد ان تكون الثقه'"
      ]
     },
     "execution_count": 25,
     "metadata": {},
     "output_type": "execute_result"
    }
   ],
   "source": [
    "df_MSAC['comment'][12]"
   ]
  },
  {
   "cell_type": "code",
   "execution_count": 26,
   "metadata": {},
   "outputs": [],
   "source": [
    "import nltk\n",
    "stopwords = list(set(nltk.corpus.stopwords.words('arabic')))\n",
    "df_MSAC[\"comment\"] = df_MSAC[\"comment\"].apply(lambda x: ' '.join([word for word in x.split() if word not in (stopwords)]))"
   ]
  },
  {
   "cell_type": "markdown",
   "metadata": {},
   "source": [
    "### Stemming"
   ]
  },
  {
   "cell_type": "code",
   "execution_count": 29,
   "metadata": {},
   "outputs": [],
   "source": [
    "from tashaphyne.stemming import ArabicLightStemmer\n",
    "#Stemmer_LIGHT : Remove suffixes and affixes \n",
    "ArListem = ArabicLightStemmer()\n",
    "def stemmer_light(text):\n",
    "    text_words = []\n",
    "    words = text.split(\" \")\n",
    "    for c in words:\n",
    "        stem = ArListem.light_stem(c)\n",
    "        text_words.append(stem)\n",
    "    return ' '.join(text_words)\n",
    "\n",
    "#Root Stemming :  Transform the wrod into its root form\n",
    "def stemmer_root(text):\n",
    "    text_words = []\n",
    "    words = text.split(\" \")\n",
    "    for c in words:\n",
    "        stem = ArListem.light_stem(c)\n",
    "        text_words.append(stem)\n",
    "    return ' '.join(text_words)\n",
    "\n",
    "\n"
   ]
  },
  {
   "cell_type": "code",
   "execution_count": 30,
   "metadata": {},
   "outputs": [],
   "source": [
    "sentences = [stemmer_light(text) for text in df_MSAC['comment']]"
   ]
  },
  {
   "cell_type": "code",
   "execution_count": 31,
   "metadata": {},
   "outputs": [
    {
     "data": {
      "text/plain": [
       "'شفافيه ثقه بد ان كو ثقه'"
      ]
     },
     "execution_count": 31,
     "metadata": {},
     "output_type": "execute_result"
    }
   ],
   "source": [
    "df_MSAC['comment']=sentences\n",
    "df_MSAC['comment'][12]"
   ]
  },
  {
   "cell_type": "code",
   "execution_count": 32,
   "metadata": {
    "id": "jE90uEKEWN7q"
   },
   "outputs": [],
   "source": [
    "#we need to create a document term matrix using CountVectorizer\n",
    "from sklearn.feature_extraction.text import CountVectorizer\n",
    "def get_top_n_words(corpus, n=None):\n",
    "\n",
    "    vec = CountVectorizer().fit(corpus)\n",
    "    bag_of_words = vec.transform(corpus)\n",
    "    sum_words = bag_of_words.sum(axis=0) \n",
    "    words_freq = [(word, sum_words[0, idx]) for word, idx in  vec.vocabulary_.items()]\n",
    "    words_freq =sorted(words_freq, key = lambda x: x[1], reverse=True)\n",
    "    return words_freq[:n]"
   ]
  },
  {
   "cell_type": "code",
   "execution_count": 33,
   "metadata": {
    "colab": {
     "base_uri": "https://localhost:8080/"
    },
    "id": "AZn_B25iWhSL",
    "outputId": "2f2aa4dc-a5bd-4c2e-a2fb-6a527734af9c"
   },
   "outputs": [
    {
     "name": "stdout",
     "output_type": "stream",
     "text": [
      "[('له', 1358),\n",
      " ('عل', 1220),\n",
      " ('ان', 913),\n",
      " ('حال', 791),\n",
      " ('لا', 646),\n",
      " ('عد', 574),\n",
      " ('را', 571),\n",
      " ('ناس', 569),\n",
      " ('هاد', 501),\n",
      " ('اش', 473),\n",
      " ('حمد', 450),\n",
      " ('مغرب', 428),\n",
      " ('ديال', 398),\n",
      " ('صح', 381),\n",
      " ('حجر', 381),\n",
      " ('حت', 377),\n",
      " ('سب', 338),\n",
      " ('نا', 332),\n",
      " ('على', 320),\n",
      " ('مرض', 296)]\n"
     ]
    }
   ],
   "source": [
    "#We inspect the top word in a sample from our corpus without stemming the words\n",
    "from pprint import pprint\n",
    "topWords=get_top_n_words(df_MSAC['comment'],n=20)\n",
    "pprint(topWords)"
   ]
  },
  {
   "cell_type": "markdown",
   "metadata": {
    "id": "wfroMFLnX43j"
   },
   "source": [
    "### Word Cloud\n"
   ]
  },
  {
   "cell_type": "code",
   "execution_count": 35,
   "metadata": {
    "colab": {
     "base_uri": "https://localhost:8080/"
    },
    "id": "MRw40_21XxwM",
    "outputId": "fd288571-a232-42dd-8d4f-776e50b51d5c"
   },
   "outputs": [
    {
     "name": "stdout",
     "output_type": "stream",
     "text": [
      "Note: you may need to restart the kernel to use updated packages.\n"
     ]
    },
    {
     "name": "stderr",
     "output_type": "stream",
     "text": [
      "WARNING: Retrying (Retry(total=4, connect=None, read=None, redirect=None, status=None)) after connection broken by 'NewConnectionError('<pip._vendor.urllib3.connection.HTTPSConnection object at 0x0000023D1C2AC100>: Failed to establish a new connection: [Errno 11001] getaddrinfo failed')': /simple/bidi/\n",
      "WARNING: Retrying (Retry(total=3, connect=None, read=None, redirect=None, status=None)) after connection broken by 'NewConnectionError('<pip._vendor.urllib3.connection.HTTPSConnection object at 0x0000023D1C1AAA90>: Failed to establish a new connection: [Errno 11001] getaddrinfo failed')': /simple/bidi/\n",
      "WARNING: Retrying (Retry(total=2, connect=None, read=None, redirect=None, status=None)) after connection broken by 'NewConnectionError('<pip._vendor.urllib3.connection.HTTPSConnection object at 0x0000023D1C1AA7F0>: Failed to establish a new connection: [Errno 11001] getaddrinfo failed')': /simple/bidi/\n",
      "WARNING: Retrying (Retry(total=1, connect=None, read=None, redirect=None, status=None)) after connection broken by 'NewConnectionError('<pip._vendor.urllib3.connection.HTTPSConnection object at 0x0000023D1B48FA30>: Failed to establish a new connection: [Errno 11001] getaddrinfo failed')': /simple/bidi/\n",
      "WARNING: Retrying (Retry(total=0, connect=None, read=None, redirect=None, status=None)) after connection broken by 'NewConnectionError('<pip._vendor.urllib3.connection.HTTPSConnection object at 0x0000023D1C1ED1F0>: Failed to establish a new connection: [Errno 11001] getaddrinfo failed')': /simple/bidi/\n",
      "ERROR: Could not find a version that satisfies the requirement bidi (from versions: none)\n",
      "ERROR: No matching distribution found for bidi\n"
     ]
    }
   ],
   "source": [
    "pip install bidi"
   ]
  },
  {
   "cell_type": "code",
   "execution_count": 36,
   "metadata": {
    "colab": {
     "base_uri": "https://localhost:8080/",
     "height": 198
    },
    "id": "zXHbTEwuYBCD",
    "outputId": "6ba3872f-4658-495f-9615-427f1f050961"
   },
   "outputs": [
    {
     "data": {
      "image/png": "[encoded data removed]",
      "text/plain": [
       "<Figure size 432x288 with 1 Axes>"
      ]
     },
     "metadata": {
      "needs_background": "light"
     },
     "output_type": "display_data"
    }
   ],
   "source": [
    "import nltk\n",
    "#nltk.download('stopwords')\n",
    "from bidi.algorithm import get_display\n",
    "import matplotlib.pyplot as plt\n",
    "import arabic_reshaper\n",
    "import os\n",
    "from wordcloud import WordCloud, STOPWORDS, ImageColorGenerator\n",
    "#stopwords= pd.read_excel(\"stop_words_Arabic.xlsx\")\n",
    "arab_stopwords = list(set(nltk.corpus.stopwords.words(\"arabic\")))\n",
    "sample_corpus=' '.join(df_MSAC['comment'])\n",
    "data = arabic_reshaper.reshape(sample_corpus)\n",
    "data = get_display(data) # add this  \n",
    "wordcloud = WordCloud(font_path = 'arial.ttf',stopwords = arab_stopwords, background_color = \"white\", max_font_size = 50, max_words = 100).generate(data)\n",
    "plt.imshow(wordcloud, interpolation='bilinear')\n",
    "plt.axis(\"off\")\n",
    "plt.show()"
   ]
  },
  {
   "cell_type": "markdown",
   "metadata": {
    "id": "UffTSw3RZOm9"
   },
   "source": [
    "Then we remove Arabic Stopwords and regenerate wordcloud"
   ]
  },
  {
   "cell_type": "markdown",
   "metadata": {
    "id": "MQ_eW3jHHG02"
   },
   "source": [
    "## Sentiment Analysis classifier"
   ]
  },
  {
   "cell_type": "markdown",
   "metadata": {
    "id": "TVay9KamnC3I"
   },
   "source": [
    "### Creating training dataset for the classifier\n"
   ]
  },
  {
   "cell_type": "code",
   "execution_count": 37,
   "metadata": {
    "id": "hr84ozGinCFh"
   },
   "outputs": [],
   "source": [
    "import pandas as pd\n",
    "import numpy as np\n",
    "\n",
    "from tqdm import tqdm_notebook as tqdm\n",
    "from sklearn.model_selection import train_test_split\n",
    "all_datasets= []"
   ]
  },
  {
   "cell_type": "code",
   "execution_count": 38,
   "metadata": {
    "colab": {
     "base_uri": "https://localhost:8080/"
    },
    "id": "yzZiHrnzqmIQ",
    "outputId": "c36445ff-349c-462e-b5dc-1433dc9de574"
   },
   "outputs": [
    {
     "name": "stdout",
     "output_type": "stream",
     "text": [
      "1    2899\n",
      "0    1438\n",
      "Name: label, dtype: int64\n"
     ]
    }
   ],
   "source": [
    "print(df_MSAC[LABEL_COLUMN].value_counts())\n",
    "label_list_MSAC = list(df_MSAC[LABEL_COLUMN].unique())"
   ]
  },
  {
   "cell_type": "markdown",
   "metadata": {},
   "source": [
    "### DecisionTree with CountVectorizer"
   ]
  },
  {
   "cell_type": "code",
   "execution_count": 39,
   "metadata": {
    "colab": {
     "base_uri": "https://localhost:8080/"
    },
    "id": "f1r0QaWfsXh5",
    "outputId": "1bbc5ddb-ec21-4688-a8d4-6b1fb7e8a521"
   },
   "outputs": [
    {
     "name": "stdout",
     "output_type": "stream",
     "text": [
      "Score (=accuracy) du modèle decision_tree avec CountVectorizer sur le jeu de test :  74.42 %\n"
     ]
    }
   ],
   "source": [
    "from sklearn.feature_extraction.text import CountVectorizer\n",
    "from sklearn.model_selection import train_test_split\n",
    "from sklearn.tree import DecisionTreeClassifier\n",
    "from sklearn.metrics import accuracy_score\n",
    "\n",
    "# Modèle 1\n",
    "df_MSAC.columns = [DATA_COLUMN, LABEL_COLUMN]\n",
    "\n",
    "#train_MSAC, test_MSAC = train_test_split(df_MSAC, test_size=0.2, random_state=42)\n",
    "\n",
    "# Vectorisation des critiques\n",
    "vectorizer = CountVectorizer(max_features=256)\n",
    "X = vectorizer.fit_transform(df_MSAC[DATA_COLUMN])\n",
    "y = df_MSAC[LABEL_COLUMN]\n",
    "\n",
    "# Séparation des données en 2 parties : entraînement / Test\n",
    "train_X, val_X, train_y, val_y = train_test_split(X, y, test_size=0.2,random_state=42)\n",
    "# Entraînement du modèle\n",
    "decision_tree = DecisionTreeClassifier(random_state=0)\n",
    "decision_tree = decision_tree.fit(train_X, train_y)\n",
    "predictions = decision_tree.predict(val_X)\n",
    "print('Score (=accuracy) du modèle decision_tree avec CountVectorizer sur le jeu de test : ', round(accuracy_score(val_y, predictions) * 100, 2), '%')"
   ]
  },
  {
   "cell_type": "code",
   "execution_count": 40,
   "metadata": {
    "colab": {
     "base_uri": "https://localhost:8080/"
    },
    "id": "7msG_iQwvDQZ",
    "outputId": "ce6a88d9-7784-46a7-a3b8-09f273c446b6"
   },
   "outputs": [
    {
     "name": "stdout",
     "output_type": "stream",
     "text": [
      "Il y a 11031 mots différents dans notre corpus.\n"
     ]
    }
   ],
   "source": [
    "vectorizer = CountVectorizer()\n",
    "vectorizer.fit(df_MSAC[DATA_COLUMN])\n",
    "vocab_size = len(vectorizer.vocabulary_)\n",
    "print(f'Il y a {vocab_size} mots différents dans notre corpus.')"
   ]
  },
  {
   "cell_type": "markdown",
   "metadata": {},
   "source": [
    "### DecisionTree with TfidfVectorizer "
   ]
  },
  {
   "cell_type": "code",
   "execution_count": 41,
   "metadata": {
    "colab": {
     "base_uri": "https://localhost:8080/"
    },
    "id": "gxItNpCytRzw",
    "outputId": "7b4d6c54-8d7d-4b94-e50c-b0b3709f2c72"
   },
   "outputs": [
    {
     "name": "stdout",
     "output_type": "stream",
     "text": [
      "Score (=accuracy) du modèle decision_tree avec TfidfVectorizer sur le jeu de test :  78.0 %\n"
     ]
    }
   ],
   "source": [
    "\n",
    "from sklearn.feature_extraction.text import TfidfVectorizer\n",
    "import nltk\n",
    "import random\n",
    "# Train the classifier\n",
    "vectorizer = TfidfVectorizer(max_features=2000)\n",
    "X = vectorizer.fit_transform(df_MSAC[DATA_COLUMN])\n",
    "y = df_MSAC[LABEL_COLUMN]\n",
    "\n",
    "train_X, val_X, train_y, val_y = train_test_split(X, y,  test_size=0.2,random_state=42)\n",
    "decision_tree = DecisionTreeClassifier(random_state=0)\n",
    "decision_tree = decision_tree.fit(train_X, train_y)\n",
    "predictions = decision_tree.predict(val_X)\n",
    "print('Score (=accuracy) du modèle decision_tree avec TfidfVectorizer sur le jeu de test : ', round(accuracy_score(predictions,val_y) * 100, 2), '%')"
   ]
  },
  {
   "cell_type": "markdown",
   "metadata": {},
   "source": [
    "### SVM"
   ]
  },
  {
   "cell_type": "code",
   "execution_count": 42,
   "metadata": {},
   "outputs": [
    {
     "name": "stdout",
     "output_type": "stream",
     "text": [
      "Score (=accuracy) du modèle svm  sur le jeu de test :  84.33 %\n"
     ]
    }
   ],
   "source": [
    "#modéle SVM\n",
    "from sklearn import svm\n",
    "train_X, val_X, train_y, val_y = train_test_split(X, y,  test_size=0.2,random_state=42)\n",
    "lin_clf = svm.LinearSVC()\n",
    "lin_cl=lin_clf.fit(train_X, train_y)\n",
    "predictions = lin_cl.predict(val_X)\n",
    "print('Score (=accuracy) du modèle svm  sur le jeu de test : ', round(accuracy_score(predictions,val_y) * 100, 2), '%')"
   ]
  },
  {
   "cell_type": "markdown",
   "metadata": {},
   "source": [
    "### Naive bayes with CountVectorizer"
   ]
  },
  {
   "cell_type": "code",
   "execution_count": 43,
   "metadata": {},
   "outputs": [
    {
     "name": "stdout",
     "output_type": "stream",
     "text": [
      "Score (=accuracy) du modèle  sur le jeu de test :  83.29 %\n"
     ]
    }
   ],
   "source": [
    "import nltk\n",
    "import random\n",
    "from sklearn.naive_bayes import  MultinomialNB\n",
    "from sklearn.feature_extraction.text import CountVectorizer\n",
    "from sklearn.model_selection import train_test_split\n",
    "from sklearn.metrics import accuracy_score\n",
    "\n",
    "# Train the classifier\n",
    "vectorizer = CountVectorizer(max_features=2000)\n",
    "X = vectorizer.fit_transform(df_MSAC[DATA_COLUMN])\n",
    "y = df_MSAC[LABEL_COLUMN]\n",
    "\n",
    "# Séparation des données en 2 parties : entraînement / test\n",
    "train_X, test_X, train_y, test_y = train_test_split(X, y, test_size=0.2,random_state=42)\n",
    "# Entraînement du modèle\n",
    "mnb = MultinomialNB()\n",
    "mnb.fit(train_X, train_y)\n",
    "\n",
    "# Test the classifier\n",
    "predictions = pd.Series(mnb.predict(test_X))\n",
    "print('Score (=accuracy) du modèle  sur le jeu de test : ', round(accuracy_score(test_y, predictions) * 100, 2), '%')\n"
   ]
  },
  {
   "cell_type": "markdown",
   "metadata": {},
   "source": [
    "### Naive bayes with TfidfVectorizer"
   ]
  },
  {
   "cell_type": "code",
   "execution_count": 44,
   "metadata": {
    "colab": {
     "base_uri": "https://localhost:8080/"
    },
    "id": "6fJwM8CHv4gj",
    "outputId": "c5c548b8-da4b-4ffa-9fb4-d1453c5e9a2c"
   },
   "outputs": [
    {
     "name": "stdout",
     "output_type": "stream",
     "text": [
      "Score (=accuracy) du modèle  sur le jeu de test :  83.99 %\n"
     ]
    }
   ],
   "source": [
    "# Modèle3 naive_bayes\n",
    "import nltk\n",
    "import random\n",
    "from sklearn.naive_bayes import BernoulliNB, MultinomialNB, GaussianNB\n",
    "\n",
    "# Train the classifier\n",
    "vectorizer = TfidfVectorizer(max_features=2000)\n",
    "X = vectorizer.fit_transform(df_MSAC[DATA_COLUMN])\n",
    "y = df_MSAC[LABEL_COLUMN]\n",
    "\n",
    "train_X, val_X, train_y, val_y = train_test_split(X, y,  test_size=0.2,random_state=42)\n",
    "mnb = MultinomialNB()\n",
    "mnb.fit(train_X, train_y)\n",
    "\n",
    "# Test the classifier\n",
    "predictions = pd.Series(mnb.predict(val_X))\n",
    "print('Score (=accuracy) du modèle  sur le jeu de test : ', round(accuracy_score(val_y, predictions) * 100, 2), '%')"
   ]
  },
  {
   "cell_type": "markdown",
   "metadata": {},
   "source": [
    "### Random forest "
   ]
  },
  {
   "cell_type": "code",
   "execution_count": 45,
   "metadata": {},
   "outputs": [
    {
     "name": "stdout",
     "output_type": "stream",
     "text": [
      "Score (=accuracy) du modèle decision_tree avec TfidfVectorizer sur le jeu de test :  63.82 %\n"
     ]
    }
   ],
   "source": [
    "#modèle random forest \n",
    "# Import the model we are using\n",
    "from sklearn.ensemble import RandomForestClassifier\n",
    "# Instantiate model with 1000 decision trees\n",
    "rf = RandomForestClassifier(max_depth=2, random_state = 42)\n",
    "# Train the model on training data\n",
    "randomforest=rf.fit(train_X, train_y);\n",
    "predictions = randomforest.predict(val_X)\n",
    "print('Score (=accuracy) du modèle decision_tree avec TfidfVectorizer sur le jeu de test : ', round(accuracy_score(predictions,val_y) * 100, 2), '%')"
   ]
  },
  {
   "cell_type": "code",
   "execution_count": null,
   "metadata": {},
   "outputs": [],
   "source": []
  }
 ],
 "metadata": {
  "accelerator": "GPU",
  "colab": {
   "collapsed_sections": [],
   "name": "Arabic_Sentiment_analysis",
   "provenance": []
  },
  "kernelspec": {
   "display_name": "Python 3",
   "language": "python",
   "name": "python3"
  },
  "language_info": {
   "codemirror_mode": {
    "name": "ipython",
    "version": 3
   },
   "file_extension": ".py",
   "mimetype": "text/x-python",
   "name": "python",
   "nbconvert_exporter": "python",
   "pygments_lexer": "ipython3",
   "version": "3.8.5"
  }
 },
 "nbformat": 4,
 "nbformat_minor": 4
}
